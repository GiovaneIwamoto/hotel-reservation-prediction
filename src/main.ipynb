{
 "cells": [
  {
   "cell_type": "markdown",
   "metadata": {},
   "source": [
    "EXPORTING DATASET TO AWS DYNAMODB"
   ]
  },
  {
   "cell_type": "code",
   "execution_count": null,
   "metadata": {},
   "outputs": [],
   "source": [
    "import pandas as pd\n",
    "import boto3\n",
    "\n",
    "# DynamoDB table\n",
    "\n",
    "# Dataset definition\n",
    "original_dataset = pd.read_csv('data/hotel_original.csv')\n",
    "\n",
    "# VAR AWS Region\n",
    "region_name = 'us-east-1'\n",
    "\n",
    "# VAR AWS DynamoDB Table\n",
    "dynamodb_table_name = ''  \n",
    "\n",
    "# Send to DynamoDb\n",
    "dynamodb = boto3.resource('dynamodb', region_name)\n",
    "\n",
    "items = []\n",
    "for index, row in original_dataset.iterrows():\n",
    "    item = {\n",
    "        'Booking_ID': {'S': (row['Booking_ID'])},\n",
    "        'no_of_adults': {'N': str(row['no_of_adults'])},\n",
    "        'no_of_children': {'N': str(row['no_of_children'])},\n",
    "        'no_of_weekend_nights': {'N': str(row['no_of_weekend_nights'])},\n",
    "        'no_of_week_nights': {'N': str(row['no_of_week_nights'])},\n",
    "        'type_of_meal_plan': {'S': row['type_of_meal_plan']},\n",
    "        'required_car_parking_space': {'N': str(row['required_car_parking_space'])},\n",
    "        'room_type_reserved': {'S': row['room_type_reserved']},\n",
    "        'lead_time': {'N': str(row['lead_time'])},\n",
    "        'arrival_year': {'N': str(row['arrival_year'])},\n",
    "        'arrival_month': {'N': str(row['arrival_month'])},\n",
    "        'arrival_date': {'N': str(row['arrival_date'])},\n",
    "        'market_segment_type': {'S': row['market_segment_type']},\n",
    "        'repeated_guest': {'N': str(row['repeated_guest'])},\n",
    "        'no_of_previous_cancellations': {'N': str(row['no_of_previous_cancellations'])},\n",
    "        'no_of_previous_bookings_not_canceled': {'N': str(row['no_of_previous_bookings_not_canceled'])},\n",
    "        'avg_price_per_room': {'N': str(row['avg_price_per_room'])},\n",
    "        'no_of_special_requests': {'N': str(row['no_of_special_requests'])},\n",
    "        'booking_status': {'S': row['booking_status']}\n",
    "    }\n",
    "    items.append(item)\n",
    "\n",
    "dynamodb = boto3.client('dynamodb', region_name)\n",
    "for item in items:\n",
    "    response = dynamodb.put_item(\n",
    "        TableName=dynamodb_table_name,\n",
    "        Item=item\n",
    "    )"
   ]
  },
  {
   "cell_type": "markdown",
   "metadata": {},
   "source": [
    "IMPORTING DATASET FROM DYNAMODB"
   ]
  }
 ],
 "metadata": {
  "kernelspec": {
   "display_name": "Python 3",
   "language": "python",
   "name": "python3"
  },
  "language_info": {
   "codemirror_mode": {
    "name": "ipython",
    "version": 3
   },
   "file_extension": ".py",
   "mimetype": "text/x-python",
   "name": "python",
   "nbconvert_exporter": "python",
   "pygments_lexer": "ipython3",
   "version": "3.12.2"
  }
 },
 "nbformat": 4,
 "nbformat_minor": 2
}
